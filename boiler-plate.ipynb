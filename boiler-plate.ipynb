{
 "cells": [
  {
   "cell_type": "code",
   "execution_count": null,
   "metadata": {},
   "outputs": [],
   "source": [
    "import csv\n",
    "\n",
    "arquivo_entrada = 'c:/projeto/arquivo.csv'\n",
    "arquivo_saida = 'c:/projeto/resultados.csv'\n",
    "\n",
    "# Função para ler arquivo\n",
    "def ler_arquivo(nome_arquivo):\n",
    "    lista = []\n",
    "    with open(arquivo_entrada, 'r', encoding='UTF-8') as f:\n",
    "        reader = csv.reader(f, delimiter=',')\n",
    "        for row in reader:\n",
    "            lista.append(row[0])\n",
    "    \n",
    "    lista.pop(0) # Remove o cabeçalho\n",
    "\n",
    "    return lista\n",
    "\n",
    "# Função para salvar arquivo\n",
    "def salvar(rows, arquivo_saida):\n",
    "    with open(arquivo_saida, 'a',  encoding='UTF-8',  newline='') as f:\n",
    "        writer = csv.writer(f, delimiter =';')\n",
    "        for row in rows:\n",
    "            writer.writerow(row)\n",
    "\n",
    "# Abre e lê os arquivos\n",
    "lista = ler_arquivo(arquivo_entrada)\n",
    "resultados = ler_arquivo(arquivo_saida)\n",
    "\n",
    "# Busca o último item feito\n",
    "index_ultimo_feito = lista.index(resultados[-1])\n",
    "lista = lista[index_ultimo_feito:]"
   ]
  },
  {
   "cell_type": "code",
   "execution_count": null,
   "metadata": {},
   "outputs": [],
   "source": [
    "import time\n",
    "\n",
    "resultados = []\n",
    "errors = []\n",
    "i = 0\n",
    "\n",
    "for item in lista:\n",
    "    time.sleep(0.5) # Delay entre iterações\n",
    "    \n",
    "    if i % 100 == 0: salvar(resultados[-100:], 'arquivo_saida.csv') # Salva o arquivo a cada 100 iterações\n",
    "    \n",
    "    try:\n",
    "        resultados.append(my_function)\n",
    "    except Exception as e:\n",
    "        erro = [item, type(e).__name__] # Salva item com erro e a descrição do erro\n",
    "        salvar(erro, 'erros.csv')\n",
    "        errors.append(erro)\n",
    "    \n",
    "    i+=1\n",
    "\n",
    "def my_function():\n",
    "    return None"
   ]
  }
 ],
 "metadata": {
  "language_info": {
   "name": "python"
  },
  "orig_nbformat": 4
 },
 "nbformat": 4,
 "nbformat_minor": 2
}
